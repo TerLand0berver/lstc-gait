{
 "cells": [
  {"cell_type": "markdown", "metadata": {}, "source": ["# LSTC/LSTP Quick Start (Safe Version)\n","No shell magics; uses Python subprocess for portability."]},
  {"cell_type": "code", "execution_count": null, "metadata": {}, "outputs": [], "source": [
    "import sys, json, subprocess\n",
    "print('Python', sys.version)\n",
    "subprocess.run([sys.executable, '-c', 'import torch, numpy; print(\\'torch\\', torch.__version__, \"cuda?\", torch.cuda.is_available())'])"
  ]},
  {"cell_type": "code", "execution_count": null, "metadata": {}, "outputs": [], "source": [
    "from pathlib import Path\n",
    "from lstc import LSTCBackbone\n",
    "import torch\n",
    "model = LSTCBackbone(in_channels=1, base_channels=16, num_stripes=8, embedding_dim=128)\n",
    "x = torch.randn(2, 1, 16, 64, 44)\n",
    "out = model(x)\n",
    "print(tuple(out['feat_map'].shape), tuple(out['embedding'].shape))"
  ]},
  {"cell_type": "code", "execution_count": null, "metadata": {}, "outputs": [], "source": [
    "# Generate toy dataset if missing\n",
    "from pathlib import Path\n",
    "import sys, subprocess\n",
    "root = Path('toy_data')\n",
    "if not root.exists():\n",
    "    subprocess.run([sys.executable, 'examples/gen_toy_dataset.py', '--out', 'toy_data', '--subjects', '3', '--seq-per-subject', '2', '--frames', '12'], check=True)\n",
    "len(list(root.rglob('*.png')))"
  ]},
  {"cell_type": "code", "execution_count": null, "metadata": {}, "outputs": [], "source": [
    "# Train CE for 1 epoch (CPU)\n",
    "import sys, subprocess\n",
    "subprocess.run([sys.executable, 'examples/train_real.py', '--data-root', 'toy_data', '--epochs', '1', '--batch-size', '8', '--seq-len', '12', '--device', 'cpu', '--out-dir', 'runs/jupyter_toy'], check=True)"
  ]},
  {"cell_type": "code", "execution_count": null, "metadata": {}, "outputs": [], "source": [
    "# Evaluate retrieval (self-gallery)\n",
    "import sys, subprocess\n",
    "subprocess.run([sys.executable, 'examples/eval_retrieval.py', '--data-root', 'toy_data', '--ckpt', 'runs/jupyter_toy/best.pt', '--device', 'cpu'], check=True)"
  ]}
 ],
 "metadata": {
  "kernelspec": {"display_name": "Python 3", "language": "python", "name": "python3"},
  "language_info": {"name": "python", "version": "3.11"}
 },
 "nbformat": 4,
 "nbformat_minor": 5
}
