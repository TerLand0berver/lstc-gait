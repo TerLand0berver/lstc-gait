{
 "cells": [
  {
   "cell_type": "markdown",
   "metadata": {},
   "source": [
    "# LSTC/LSTP Quick Start (Jupyter)\n",
    "This notebook demonstrates basic usage: shape sanity, toy-data training, and simple retrieval eval."
   ]
  },
  {
   "cell_type": "code",
   "execution_count": null,
   "metadata": {},
   "outputs": [],
   "source": [
    "import os, sys, subprocess, json\n",
    "from pathlib import Path\n",
    "sys.path.append(str(Path.cwd()))  # ensure 'lstc' is importable when launched from repo root\n",
    "print('Python', sys.version)\n",
    "!python -c \"import torch, numpy; print('torch', torch.__version__, 'cuda?', torch.cuda.is_available())\""
   ]
  },
  {
   "cell_type": "markdown",
   "metadata": {},
   "source": [
    "## Shape sanity"
   ]
  },
  {
   "cell_type": "code",
   "execution_count": null,
   "metadata": {},
   "outputs": [],
   "source": [
    "from lstc import LSTCBackbone\n",
    "import torch\n",
    "model = LSTCBackbone(in_channels=1, base_channels=16, num_stripes=8, embedding_dim=128)\n",
    "x = torch.randn(2, 1, 16, 64, 44)\n",
    "out = model(x)\n",
    "tuple(out['feat_map'].shape), tuple(out['embedding'].shape)"
   ]
  },
  {
   "cell_type": "markdown",
   "metadata": {},
   "source": [
    "## Generate toy dataset"
   ]
  },
  {
   "cell_type": "code",
   "execution_count": null,
   "metadata": {},
   "outputs": [],
   "source": [
    "toy_root = Path('toy_data')\n",
    "if not toy_root.exists():\n",
    "    !python examples/gen_toy_dataset.py --out ./toy_data --subjects 3 --seq-per-subject 2 --frames 12\n",
    "len(list(toy_root.rglob('*.png')))
   ]
  },
  {
   "cell_type": "markdown",
   "metadata": {},
   "source": [
    "## Train (CE, 1 epoch, CPU)"
   ]
  },
  {
   "cell_type": "code",
   "execution_count": null,
   "metadata": {},
   "outputs": [],
   "source": [
    "!python examples/train_real.py --data-root ./toy_data --epochs 1 --batch-size 8 --seq-len 12 --device cpu --out-dir runs/jupyter_toy"
   ]
  },
  {
   "cell_type": "markdown",
   "metadata": {},
   "source": [
    "## Evaluate retrieval (self-gallery)"
   ]
  },
  {
   "cell_type": "code",
   "execution_count": null,
   "metadata": {},
   "outputs": [],
   "source": [
    "!python examples/eval_retrieval.py --data-root ./toy_data --ckpt runs/jupyter_toy/best.pt --device cpu"
   ]
  }
 ],
 "metadata": {
  "kernelspec": {
   "display_name": "Python 3",
   "language": "python",
   "name": "python3"
  },
  "language_info": {
   "name": "python",
   "version": "3.11"
  }
 },
 "nbformat": 4,
 "nbformat_minor": 5
}
